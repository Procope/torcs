{
 "cells": [
  {
   "cell_type": "code",
   "execution_count": 33,
   "metadata": {
    "collapsed": true
   },
   "outputs": [],
   "source": [
    "from reader import read_data, split_data\n",
    "import numpy as np\n",
    "from sklearn import preprocessing\n",
    "from sklearn.decomposition import PCA\n",
    "from matplotlib import pyplot as plt\n",
    "from pyESN import ESN\n",
    "\n",
    "# pyESN on github : https://github.com/cknd/pyESN"
   ]
  },
  {
   "cell_type": "code",
   "execution_count": 2,
   "metadata": {
    "collapsed": false
   },
   "outputs": [
    {
     "name": "stderr",
     "output_type": "stream",
     "text": [
      "/anaconda/lib/python3.6/site-packages/sklearn/preprocessing/data.py:164: UserWarning: Numerical issues were encountered when centering the data and might not be solved. Dataset may contain too large values. You may need to prescale your features.\n",
      "  warnings.warn(\"Numerical issues were encountered \"\n",
      "/anaconda/lib/python3.6/site-packages/sklearn/preprocessing/data.py:181: UserWarning: Numerical issues were encountered when scaling the data and might not be solved. The standard deviation of the data is probably very close to 0. \n",
      "  warnings.warn(\"Numerical issues were encountered \"\n"
     ]
    }
   ],
   "source": [
    "# the data, shuffled and split between train, validation, and test sets\n",
    "\n",
    "x, y1, y2, y3 = read_data('train_data/alpine-1.csv', shuffle=True)\n",
    "x = preprocessing.scale(x)\n",
    "\n",
    "train_set, valid_set, test_set = split_data(x, y1, y2, y3, 0.8, 0.1)\n",
    "\n",
    "x_train, y1_train, y2_train, y3_train = train_set\n",
    "x_valid, y1_valid, y2_valid, y3_valid = valid_set\n",
    "x_test, y1_test, y2_test, y3_test = test_set"
   ]
  },
  {
   "cell_type": "code",
   "execution_count": 32,
   "metadata": {
    "collapsed": false
   },
   "outputs": [
    {
     "data": {
      "image/png": "[encoded data removed]",
      "text/plain": [
       "<matplotlib.figure.Figure at 0x1a16a9ca90>"
      ]
     },
     "metadata": {},
     "output_type": "display_data"
    },
    {
     "name": "stdout",
     "output_type": "stream",
     "text": [
      "explained variance of first 7 components: 98.9 %\n",
      "original shape:    (17046, 22)\n",
      "transformed shape: (17046, 7)\n"
     ]
    },
    {
     "data": {
      "text/plain": [
       "(1706, 7)"
      ]
     },
     "execution_count": 32,
     "metadata": {},
     "output_type": "execute_result"
    }
   ],
   "source": [
    "# Use PCA to represent data in lower dim\n",
    "\n",
    "\n",
    "## How many components ? \n",
    "pca = PCA().fit(x)\n",
    "plt.plot(np.cumsum(pca.explained_variance_ratio_))\n",
    "plt.xlabel('number of components')\n",
    "plt.ylabel('cumulative explained variance');\n",
    "plt.show()\n",
    "\n",
    "\n",
    "\n",
    "pca = PCA(n_components = 7).fit(x)\n",
    "print(\"explained variance of first 7 components:\",100* round(sum(pca.explained_variance_ratio_),3),\"%\")\n",
    "\n",
    "## 7 seems reasonable as we still have 99 % of explained variance \n",
    "\n",
    "x_trans = pca.transform(x)\n",
    "print(\"original shape:   \", x.shape)\n",
    "print(\"transformed shape:\", x_trans.shape)\n",
    "\n",
    "\n",
    "# data with transformed x\n",
    "\n",
    "train_set, valid_set, test_set = split_data(x_trans, y1, y2, y3, 0.8, 0.1)\n",
    "\n",
    "x_train, y1_train, y2_train, y3_train = train_set\n",
    "x_valid, y1_valid, y2_valid, y3_valid = valid_set\n",
    "x_test, y1_test, y2_test, y3_test = test_set\n",
    "\n"
   ]
  },
  {
   "cell_type": "code",
   "execution_count": 52,
   "metadata": {
    "collapsed": false
   },
   "outputs": [
    {
     "data": {
      "text/plain": [
       "(13636,)"
      ]
     },
     "execution_count": 52,
     "metadata": {},
     "output_type": "execute_result"
    }
   ],
   "source": [
    "y1_train.shape"
   ]
  },
  {
   "cell_type": "code",
   "execution_count": 89,
   "metadata": {
    "collapsed": false
   },
   "outputs": [
    {
     "name": "stdout",
     "output_type": "stream",
     "text": [
      "harvesting states...\n",
      "fitting...\n",
      "training error:\n",
      "0.325103031384\n",
      "test error:\n",
      "0.389957645532\n"
     ]
    }
   ],
   "source": [
    "esn = ESN(n_inputs = 7,\n",
    "          n_outputs = 1,\n",
    "          n_reservoir = 500,\n",
    "          spectral_radius = 0.8,\n",
    "          sparsity = 0.7,\n",
    "          noise = 0.01,\n",
    "          input_shift = None,\n",
    "          input_scaling = None,\n",
    "          teacher_scaling = 1.15,\n",
    "          teacher_shift = -0.95,\n",
    "          out_activation = np.tanh,\n",
    "          inverse_out_activation = np.arctanh,\n",
    "          random_state = None,\n",
    "          silent = False)\n",
    "\n",
    "pred_train = esn.fit(x_train,y2_train)\n",
    "\n",
    "print(\"test error:\")\n",
    "pred_test = esn.predict(x_test)\n",
    "print(np.sqrt(np.mean((pred_test - y2_test)**2)))"
   ]
  },
  {
   "cell_type": "code",
   "execution_count": 61,
   "metadata": {
    "collapsed": false
   },
   "outputs": [],
   "source": []
  },
  {
   "cell_type": "code",
   "execution_count": null,
   "metadata": {
    "collapsed": true
   },
   "outputs": [],
   "source": []
  }
 ],
 "metadata": {
  "kernelspec": {
   "display_name": "Python 3",
   "language": "python",
   "name": "python3"
  },
  "language_info": {
   "codemirror_mode": {
    "name": "ipython",
    "version": 3
   },
   "file_extension": ".py",
   "mimetype": "text/x-python",
   "name": "python",
   "nbconvert_exporter": "python",
   "pygments_lexer": "ipython3",
   "version": "3.6.0"
  }
 },
 "nbformat": 4,
 "nbformat_minor": 2
}
